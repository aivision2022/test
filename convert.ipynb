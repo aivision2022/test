{
  "nbformat": 4,
  "nbformat_minor": 0,
  "metadata": {
    "colab": {
      "provenance": [],
      "authorship_tag": "ABX9TyNMAIS2+CC5f3G/W/G9ciZY",
      "include_colab_link": true
    },
    "kernelspec": {
      "name": "python3",
      "display_name": "Python 3"
    },
    "language_info": {
      "name": "python"
    }
  },
  "cells": [
    {
      "cell_type": "markdown",
      "metadata": {
        "id": "view-in-github",
        "colab_type": "text"
      },
      "source": [
        "<a href=\"https://colab.research.google.com/github/aivision2022/test/blob/main/convert.ipynb\" target=\"_parent\"><img src=\"https://colab.research.google.com/assets/colab-badge.svg\" alt=\"Open In Colab\"/></a>"
      ]
    },
    {
      "cell_type": "code",
      "execution_count": null,
      "metadata": {
        "id": "s4_xzXo-Vx7q"
      },
      "outputs": [],
      "source": [
        "!git clone https://github.com/ultralytics/ultralytics.git"
      ]
    },
    {
      "cell_type": "code",
      "source": [
        "# ipynb-py-convert\n",
        "!pip install ipynb-py-convert\n",
        "\n",
        "!ipynb-py-convert ./ultralytics/1.py ./ultralytics/1.ipynb\n",
        "\n",
        "\n",
        "# nbconvert\n",
        "!pip install nbconvert\n",
        "\n",
        "!jupyter nbconvert ./ultralytics/*.ipynb --to script\n",
        "\n",
        "\n",
        "# p2j - 제대로 안됨. 에러\n",
        "!pip install p2j\n",
        "!p2j ./ultralytics/2.py"
      ],
      "metadata": {
        "id": "eIcdMi7KveHd"
      },
      "execution_count": null,
      "outputs": []
    },
    {
      "cell_type": "code",
      "source": [
        "!https://colab.research.google.com/github/aivision2022/ultralytics/setup.py\n",
        "!https://colab.research.google.com/github.com/aivision2022/ultralytics/blob/main/test.ipynb"
      ],
      "metadata": {
        "colab": {
          "base_uri": "https://localhost:8080/"
        },
        "id": "tJm9-jxes9wr",
        "outputId": "5e33d057-1888-4f15-924d-11a4003d46d0"
      },
      "execution_count": 35,
      "outputs": [
        {
          "output_type": "stream",
          "name": "stdout",
          "text": [
            "/bin/bash: https://colab.research.google.com/github.com/aivision2022/ultralytics/blob/main/test.ipynb: No such file or directory\n"
          ]
        }
      ]
    }
  ]
}